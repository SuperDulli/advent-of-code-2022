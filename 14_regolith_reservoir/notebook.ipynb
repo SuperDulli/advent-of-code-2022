{
 "cells": [
  {
   "cell_type": "code",
   "execution_count": 239,
   "metadata": {},
   "outputs": [],
   "source": [
    "def read_file(file_name):\n",
    "\twith open(file_name, \"r\") as f:\n",
    "\t\tdata = f.read().splitlines()\n",
    "\treturn data"
   ]
  },
  {
   "cell_type": "code",
   "execution_count": 240,
   "metadata": {},
   "outputs": [],
   "source": [
    "EXAMPLE_FILE = \"example\"\n",
    "INPUT_FILE = \"input\"\n",
    "directions = [(0,1), (-1,1), (1,1)]"
   ]
  },
  {
   "cell_type": "code",
   "execution_count": 241,
   "metadata": {},
   "outputs": [
    {
     "data": {
      "text/plain": [
       "([(498, 4, 498, 6),\n",
       "  (498, 6, 496, 6),\n",
       "  (503, 4, 502, 4),\n",
       "  (502, 4, 502, 9),\n",
       "  (502, 9, 494, 9)],\n",
       " 9,\n",
       " 9,\n",
       " 494,\n",
       " 6)"
      ]
     },
     "execution_count": 241,
     "metadata": {},
     "output_type": "execute_result"
    }
   ],
   "source": [
    "def parse_data(file_name):\n",
    "\tdata = read_file(file_name)\n",
    "\trock_lines = []\n",
    "\twidth, height = 0, 0\n",
    "\tsand_x = 500\n",
    "\tmin_x = sand_x\n",
    "\tfor line in data:\n",
    "\t\tpath = line.split(' -> ')\n",
    "\t\tfor i in range(len(path) - 1):\n",
    "\t\t\tstart_x, start_y = [int(_) for _ in path[i].split(',')]\n",
    "\t\t\tend_x, end_y = [int(_) for _ in path[i + 1].split(',')]\n",
    "\t\t\trock_lines.append((start_x, start_y, end_x, end_y))\n",
    "\t\t\tif start_x < min_x:\n",
    "\t\t\t\tmin_x = start_x\n",
    "\t\t\tif end_x < min_x:\n",
    "\t\t\t\tmin_x = end_x\n",
    "\t\t\tif end_x > width:\n",
    "\t\t\t\twidth = end_x\n",
    "\t\t\tif start_x > width:\n",
    "\t\t\t\twidth = start_x\n",
    "\t\t\tif end_y > height:\n",
    "\t\t\t\theight = end_y\n",
    "\twidth -= min_x\n",
    "\tsand_x = abs(min_x - sand_x)\n",
    "\treturn (rock_lines, width, height, min_x, sand_x)\n",
    "\n",
    "parse_data(EXAMPLE_FILE)\n",
    "\n"
   ]
  },
  {
   "cell_type": "code",
   "execution_count": 242,
   "metadata": {},
   "outputs": [
    {
     "name": "stdout",
     "output_type": "stream",
     "text": [
      " 0123456789\n",
      "0.......+...\n",
      "1...........\n",
      "2...........\n",
      "3...........\n",
      "4.....#...##\n",
      "5.....#...#.\n",
      "6...###...#.\n",
      "7.........#.\n",
      "8.........#.\n",
      "9.#########.\n"
     ]
    }
   ],
   "source": [
    "def build_line(cave, start_x, start_y, end_x, end_y):\n",
    "\tdirection_x = -1 if start_x > end_x else 1\n",
    "\tdirection_y = -1 if start_y > end_y else 1\n",
    "\tfor x in range(start_x, end_x + direction_x, direction_x):\n",
    "\t\tfor y in range(start_y, end_y + direction_y, direction_y):\n",
    "\t\t\tcave[y][x] = '#'\n",
    "\n",
    "def build_cave(file_name):\n",
    "\trock_lines, width, height, min_x, sand_x = parse_data(file_name)\n",
    "\tcave = [['.' for _ in range(width + 2)] for _ in range(height + 1)]\n",
    "\tcave[0][sand_x + 1] = '+' # here the sand spawns\n",
    "\tfor line in rock_lines:\n",
    "\t\tstart_x, start_y, end_x, end_y = line\n",
    "\t\tstart_x -= min_x - 1\n",
    "\t\tend_x -= min_x - 1\n",
    "\t\tbuild_line(cave, start_x, start_y, end_x, end_y)\n",
    "\n",
    "\treturn cave, sand_x + 1\n",
    "\n",
    "def print_cave(cave):\n",
    "\tprint(''.join(list(' ') + [str(i) for i,_ in enumerate(cave)]))\n",
    "\tfor i, line in enumerate(cave):\n",
    "\t\tprint(str(i) + ''.join(line))\n",
    "\n",
    "example_cave, example_sand_x = build_cave(EXAMPLE_FILE)\n",
    "cave, sand_x = build_cave(INPUT_FILE)\n",
    "# print(sand_x)\n",
    "print_cave(example_cave)\n",
    "# print_cave(build_cave(INPUT_FILE))"
   ]
  },
  {
   "cell_type": "code",
   "execution_count": 243,
   "metadata": {},
   "outputs": [],
   "source": [
    "def place_sand(cave, x, y):\n",
    "\tmoving = True\n",
    "\tdirection_index = 0\n",
    "\twhile moving:\n",
    "\t\tif x + directions[direction_index][0] not in range(len(cave[0])) or y + directions[direction_index][1] not in range(len(cave)):\n",
    "\t\t\treturn False\n",
    "\t\twhile moving and direction_index in range(len(directions)):\n",
    "\t\t\tif x + directions[direction_index][0] not in range(len(cave[0])) or y + directions[direction_index][1] not in range(len(cave)):\n",
    "\t\t\t\treturn False\n",
    "\t\t\tif cave[y + directions[direction_index][1]][x + directions[direction_index][0]] == '.':\n",
    "\t\t\t\tbreak\n",
    "\t\t\tdirection_index += 1\n",
    "\t\t\tif direction_index == len(directions):\n",
    "\t\t\t\tmoving = False\n",
    "\t\tif moving:\n",
    "\t\t\tx += directions[direction_index][0]\n",
    "\t\t\ty += directions[direction_index][1]\n",
    "\t\tdirection_index = 0\n",
    "\tif x not in range(len(cave[0])) or y not in range(len(cave)):\n",
    "\t\treturn False\n",
    "\tcave[y][x] = 'o'\n",
    "\t# print(x, y)\n",
    "\t# print_cave(cave)\n",
    "\treturn True\n"
   ]
  },
  {
   "cell_type": "code",
   "execution_count": 244,
   "metadata": {},
   "outputs": [
    {
     "name": "stdout",
     "output_type": "stream",
     "text": [
      "24\n",
      "696\n"
     ]
    }
   ],
   "source": [
    "def solve_part1(cave, sand_x):\n",
    "\tcount = 0\n",
    "\twhile place_sand(cave, sand_x, 1):\n",
    "\t\tcount += 1\n",
    "\treturn count\n",
    "\n",
    "print(solve_part1(example_cave, example_sand_x))\n",
    "print(solve_part1(cave, sand_x))"
   ]
  }
 ],
 "metadata": {
  "kernelspec": {
   "display_name": "Python 3.7.5 64-bit",
   "language": "python",
   "name": "python3"
  },
  "language_info": {
   "codemirror_mode": {
    "name": "ipython",
    "version": 3
   },
   "file_extension": ".py",
   "mimetype": "text/x-python",
   "name": "python",
   "nbconvert_exporter": "python",
   "pygments_lexer": "ipython3",
   "version": "3.7.5"
  },
  "orig_nbformat": 4,
  "vscode": {
   "interpreter": {
    "hash": "31f2aee4e71d21fbe5cf8b01ff0e069b9275f58929596ceb00d14d90e3e16cd6"
   }
  }
 },
 "nbformat": 4,
 "nbformat_minor": 2
}
