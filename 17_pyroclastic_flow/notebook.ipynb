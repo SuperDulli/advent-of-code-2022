{
 "cells": [
  {
   "cell_type": "code",
   "execution_count": 134,
   "metadata": {},
   "outputs": [],
   "source": [
    "def read_file(file_name):\n",
    "\twith open(file_name, \"r\") as f:\n",
    "\t\tdata = f.read().splitlines()\n",
    "\treturn data"
   ]
  },
  {
   "cell_type": "code",
   "execution_count": 135,
   "metadata": {},
   "outputs": [],
   "source": [
    "EXAMPLE_FILE = \"example\"\n",
    "INPUT_FILE = \"input\"\n",
    "left = (-1, 0)\n",
    "right = (1, 0)\n",
    "down = (0, -1)\n",
    "up = (0, 1)\n",
    "horizontal_offset = 2\n",
    "cave_width = 7"
   ]
  },
  {
   "cell_type": "code",
   "execution_count": 136,
   "metadata": {},
   "outputs": [
    {
     "data": {
      "text/plain": [
       "<itertools.cycle at 0x7fc1847e5a00>"
      ]
     },
     "execution_count": 136,
     "metadata": {},
     "output_type": "execute_result"
    }
   ],
   "source": [
    "from itertools import cycle\n",
    "\n",
    "rock_minus = set([(x, 0) for x in range(4)])\n",
    "rock_plus = set([(x, 1) for x in range(3)] + [(1, 0), (1 , 2)])\n",
    "rock_corner = set([(x, 0) for x in range(3)] + [(2, y) for y in range(1, 3)])\n",
    "rock_column = set([(0, y) for y in range(4)])\n",
    "rock_sqaure = set([(x, y) for x in range(2) for y in range(2)])\n",
    "rocks = cycle([rock_minus, rock_plus, rock_corner, rock_column, rock_sqaure])\n",
    "\n",
    "example_jets = cycle(list(read_file(EXAMPLE_FILE)))\n",
    "jets = cycle(list(read_file(INPUT_FILE)))\n",
    "\n",
    "cave = set()\n",
    "\n",
    "rocks\n",
    "\n",
    "list(read_file(EXAMPLE_FILE))"
   ]
  },
  {
   "cell_type": "code",
   "execution_count": 137,
   "metadata": {},
   "outputs": [],
   "source": [
    "def move_rock(rock, direction, steps):\n",
    "\tnew_rock = []\n",
    "\tfor x, y in rock:\n",
    "\t\tx += direction[0] * steps\n",
    "\t\ty += direction[1] * steps\n",
    "\t\tif x not in range(cave_width) or y < 0 or (x, y) in cave:\n",
    "\t\t\treturn False\n",
    "\t\tnew_rock.append((x, y))\n",
    "\tnew_rock = set(new_rock)\n",
    "\trock.clear()\n",
    "\trock.update(new_rock)\n",
    "\treturn True"
   ]
  },
  {
   "cell_type": "code",
   "execution_count": 138,
   "metadata": {},
   "outputs": [],
   "source": [
    "def spawn_rock(x, y):\n",
    "\tspawn = next(rocks).copy()\n",
    "\tmove_rock(spawn, right, x)\n",
    "\tmove_rock(spawn, up, y)\n",
    "\treturn spawn"
   ]
  },
  {
   "cell_type": "code",
   "execution_count": null,
   "metadata": {},
   "outputs": [],
   "source": [
    "def move_by_jet(rock):\n",
    "\tjet = next(jets)\n",
    "\tprint(list(example_jets))\n",
    "\tdirection = left if jet == '<' else right\n",
    "\tmove_rock(rock, direction, 1)\n",
    "\n",
    "move_by_jet(rock_minus)\n",
    "print(rock_minus)"
   ]
  },
  {
   "cell_type": "code",
   "execution_count": 140,
   "metadata": {},
   "outputs": [
    {
     "ename": "SyntaxError",
     "evalue": "unexpected EOF while parsing (4143693692.py, line 11)",
     "output_type": "error",
     "traceback": [
      "\u001b[0;36m  File \u001b[0;32m\"/tmp/ipykernel_938/4143693692.py\"\u001b[0;36m, line \u001b[0;32m11\u001b[0m\n\u001b[0;31m    \u001b[0m\n\u001b[0m    ^\u001b[0m\n\u001b[0;31mSyntaxError\u001b[0m\u001b[0;31m:\u001b[0m unexpected EOF while parsing\n"
     ]
    }
   ],
   "source": [
    "from itertools import cycle\n",
    "\n",
    "def solve_part1(jets):\n",
    "\tcount = 0\n",
    "\ty = 0\n",
    "\twhile count < 2022:\n",
    "\t\tmoving = True\n",
    "\t\trock = spawn_rock(horizontal_offset, y)\n",
    "\t\twhile moving:\n",
    "\t\t\t\n",
    "\n"
   ]
  }
 ],
 "metadata": {
  "kernelspec": {
   "display_name": "Python 3.7.5 64-bit",
   "language": "python",
   "name": "python3"
  },
  "language_info": {
   "codemirror_mode": {
    "name": "ipython",
    "version": 3
   },
   "file_extension": ".py",
   "mimetype": "text/x-python",
   "name": "python",
   "nbconvert_exporter": "python",
   "pygments_lexer": "ipython3",
   "version": "3.7.5"
  },
  "orig_nbformat": 4,
  "vscode": {
   "interpreter": {
    "hash": "31f2aee4e71d21fbe5cf8b01ff0e069b9275f58929596ceb00d14d90e3e16cd6"
   }
  }
 },
 "nbformat": 4,
 "nbformat_minor": 2
}
