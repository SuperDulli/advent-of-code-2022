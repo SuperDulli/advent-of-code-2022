{
 "cells": [
  {
   "cell_type": "code",
   "execution_count": 352,
   "metadata": {},
   "outputs": [],
   "source": [
    "def read_file(file_name):\n",
    "\twith open(file_name, \"r\") as f:\n",
    "\t\tdata = f.read().splitlines()\n",
    "\treturn data"
   ]
  },
  {
   "cell_type": "code",
   "execution_count": 353,
   "metadata": {},
   "outputs": [],
   "source": [
    "EXAMPLE_FILE = \"example\"\n",
    "INPUT_FILE = \"input\"\n",
    "left = (-1, 0)\n",
    "right = (1, 0)\n",
    "down = (0, -1)\n",
    "up = (0, 1)\n",
    "horizontal_offset = 2\n",
    "cave_width = 7"
   ]
  },
  {
   "cell_type": "code",
   "execution_count": 354,
   "metadata": {},
   "outputs": [],
   "source": [
    "from itertools import cycle\n",
    "\n",
    "rock_minus = set([(x, 0) for x in range(4)])\n",
    "rock_plus = set([(x, 1) for x in range(3)] + [(1, 0), (1 , 2)])\n",
    "rock_corner = set([(x, 0) for x in range(3)] + [(2, y) for y in range(1, 3)])\n",
    "rock_column = set([(0, y) for y in range(4)])\n",
    "rock_sqaure = set([(x, y) for x in range(2) for y in range(2)])\n",
    "\n",
    "def init_cave(file_name):\n",
    "\tcave = set()\n",
    "\tjets = cycle(list(read_file(file_name)[0]))\n",
    "\trocks = cycle([rock_minus, rock_plus, rock_corner, rock_column, rock_sqaure])\n",
    "\treturn cave, jets, rocks\n"
   ]
  },
  {
   "cell_type": "code",
   "execution_count": 355,
   "metadata": {},
   "outputs": [],
   "source": [
    "def move_rock(rock, direction, steps):\n",
    "\tnew_rock = []\n",
    "\tfor x, y in rock:\n",
    "\t\tx += direction[0] * steps\n",
    "\t\ty += direction[1] * steps\n",
    "\t\tif x not in range(cave_width) or y < 0 or (x, y) in cave:\n",
    "\t\t\treturn False\n",
    "\t\tnew_rock.append((x, y))\n",
    "\tnew_rock = set(new_rock)\n",
    "\trock.clear()\n",
    "\trock.update(new_rock)\n",
    "\treturn True"
   ]
  },
  {
   "cell_type": "code",
   "execution_count": 356,
   "metadata": {},
   "outputs": [],
   "source": [
    "def spawn_rock(x, y):\n",
    "\tspawn = next(rocks).copy()\n",
    "\tmove_rock(spawn, up, y)\n",
    "\tmove_rock(spawn, right, x)\n",
    "\treturn spawn"
   ]
  },
  {
   "cell_type": "code",
   "execution_count": 357,
   "metadata": {},
   "outputs": [],
   "source": [
    "def move_by_jet(rock, jet):\n",
    "\tdirection = left if jet == '<' else right\n",
    "\tmove_rock(rock, direction, 1)"
   ]
  },
  {
   "cell_type": "code",
   "execution_count": 358,
   "metadata": {},
   "outputs": [],
   "source": [
    "from PIL import Image, ImageOps\n",
    "import numpy as np\n",
    "\n",
    "IMG_SCALE_FACTOR = 80\n",
    "\n",
    "def render_cave(y):\n",
    "\tdata = np.zeros((y+1,cave_width,3), dtype=np.uint8 )\n",
    "\tfor coords in cave:\n",
    "\t\tcolor = [255,255,255]\n",
    "\t\tdata[coords[1], coords[0]] = color\n",
    "\timg = Image.fromarray(data)\n",
    "\timg = img.transpose(method=Image.Transpose.FLIP_TOP_BOTTOM)\n",
    "\timg = ImageOps.scale(img, IMG_SCALE_FACTOR, Image.Resampling.BOX)\n",
    "\tdisplay(img) "
   ]
  },
  {
   "cell_type": "code",
   "execution_count": null,
   "metadata": {},
   "outputs": [],
   "source": [
    "def solve_part1(jets):\n",
    "\tcount = 0\n",
    "\ty = 0\n",
    "\twhile count < 2022:\n",
    "\t\tif count % 1_000 == 0:\n",
    "\t\t\tprint(count)\n",
    "\t\trock = spawn_rock(horizontal_offset, y + 3)\n",
    "\t\tmoving = True\n",
    "\t\twhile moving:\n",
    "\t\t\tmove_by_jet(rock, next(jets))\n",
    "\t\t\tmoving = move_rock(rock, down, 1)\n",
    "\t\tcave.update(rock)\n",
    "\t\ty = max([y for x, y in cave]) + 1\n",
    "\t\tcount += 1\n",
    "\treturn y\n",
    "\n",
    "# cave, jets, rocks = init_cave(EXAMPLE_FILE)\n",
    "# print(solve_part1(jets))\n",
    "cave, jets, rocks = init_cave(INPUT_FILE)\n",
    "solve_part1(jets)"
   ]
  }
 ],
 "metadata": {
  "kernelspec": {
   "display_name": "Python 3.7.5 64-bit",
   "language": "python",
   "name": "python3"
  },
  "language_info": {
   "codemirror_mode": {
    "name": "ipython",
    "version": 3
   },
   "file_extension": ".py",
   "mimetype": "text/x-python",
   "name": "python",
   "nbconvert_exporter": "python",
   "pygments_lexer": "ipython3",
   "version": "3.7.5 (default, Dec  9 2021, 17:04:37) \n[GCC 8.4.0]"
  },
  "orig_nbformat": 4,
  "vscode": {
   "interpreter": {
    "hash": "31f2aee4e71d21fbe5cf8b01ff0e069b9275f58929596ceb00d14d90e3e16cd6"
   }
  }
 },
 "nbformat": 4,
 "nbformat_minor": 2
}
