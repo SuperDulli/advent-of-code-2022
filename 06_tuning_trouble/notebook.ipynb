{
 "cells": [
  {
   "cell_type": "code",
   "execution_count": 31,
   "metadata": {},
   "outputs": [],
   "source": [
    "def read_file(file_name):\n",
    "\twith open(file_name, \"r\") as f:\n",
    "\t\tdata = f.read().splitlines()\n",
    "\treturn data"
   ]
  },
  {
   "cell_type": "code",
   "execution_count": 32,
   "metadata": {},
   "outputs": [],
   "source": [
    "INPUT_FILE = \"input\"\n",
    "example0 = \"mjqjpqmgbljsphdztnvjfqwrcgsmlb\" # 7,19\n",
    "example1 = \"bvwbjplbgvbhsrlpgdmjqwftvncz\" # 5\n",
    "example2 = \"nppdvjthqldpwncqszvftbrmjlhg\" # 6, 23\n",
    "example3 = \"nznrnfrfntjfmvfwmzdfjlvtqnbhcprsg\" # 10, 29\n",
    "example4 = \"zcfzfwzzqfrljwzlrfnpqdbhtmscgvjw\" # 11, 26\n",
    "\n",
    "examples = [example0, example1, example2, example3, example4]"
   ]
  },
  {
   "cell_type": "code",
   "execution_count": 33,
   "metadata": {},
   "outputs": [],
   "source": [
    "def detect_marker(data, n):\n",
    "\tfor count, _ in enumerate(data):\n",
    "\t\tif count < n:\n",
    "\t\t\tcontinue\n",
    "\t\tstart_index = count - n\n",
    "\t\twindow = data[start_index:count]\n",
    "\t\tif len(set(list(window))) == n:\n",
    "\t\t\treturn count"
   ]
  },
  {
   "cell_type": "code",
   "execution_count": 34,
   "metadata": {},
   "outputs": [
    {
     "name": "stdout",
     "output_type": "stream",
     "text": [
      "## part 1 ##\n",
      "examples:\n",
      "7\n",
      "5\n",
      "6\n",
      "10\n",
      "11\n",
      "puzzle: 1134\n"
     ]
    }
   ],
   "source": [
    "def solve_part1(data):\n",
    "\treturn detect_marker(data, 4)\n",
    "\n",
    "print(\"## part 1 ##\")\n",
    "\n",
    "print(\"examples:\")\n",
    "for example in examples:\n",
    "\tprint(solve_part1(example))\n",
    "\n",
    "print(\"puzzle:\", solve_part1(read_file(INPUT_FILE)[0]))"
   ]
  },
  {
   "cell_type": "code",
   "execution_count": 35,
   "metadata": {},
   "outputs": [
    {
     "name": "stdout",
     "output_type": "stream",
     "text": [
      "## part 2 ##\n",
      "examples:\n",
      "19\n",
      "23\n",
      "23\n",
      "29\n",
      "26\n",
      "puzzle: 2263\n"
     ]
    }
   ],
   "source": [
    "def solve_part2(data):\n",
    "\treturn detect_marker(data, 14)\n",
    "\n",
    "print(\"## part 2 ##\")\n",
    "\n",
    "print(\"examples:\")\n",
    "for example in examples:\n",
    "\tprint(solve_part2(example))\n",
    "\n",
    "print(\"puzzle:\", solve_part2(read_file(INPUT_FILE)[0]))"
   ]
  }
 ],
 "metadata": {
  "kernelspec": {
   "display_name": "Python 3.7.5 64-bit",
   "language": "python",
   "name": "python3"
  },
  "language_info": {
   "codemirror_mode": {
    "name": "ipython",
    "version": 3
   },
   "file_extension": ".py",
   "mimetype": "text/x-python",
   "name": "python",
   "nbconvert_exporter": "python",
   "pygments_lexer": "ipython3",
   "version": "3.7.5"
  },
  "orig_nbformat": 4,
  "vscode": {
   "interpreter": {
    "hash": "31f2aee4e71d21fbe5cf8b01ff0e069b9275f58929596ceb00d14d90e3e16cd6"
   }
  }
 },
 "nbformat": 4,
 "nbformat_minor": 2
}
