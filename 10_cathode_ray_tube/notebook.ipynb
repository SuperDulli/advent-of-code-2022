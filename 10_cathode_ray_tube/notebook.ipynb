{
 "cells": [
  {
   "cell_type": "code",
   "execution_count": 25,
   "metadata": {},
   "outputs": [],
   "source": [
    "def read_file(file_name):\n",
    "\twith open(file_name, \"r\") as f:\n",
    "\t\tdata = f.read().splitlines()\n",
    "\treturn data"
   ]
  },
  {
   "cell_type": "code",
   "execution_count": 26,
   "metadata": {},
   "outputs": [
    {
     "data": {
      "text/plain": [
       "[20, 60, 100, 140, 180, 220]"
      ]
     },
     "execution_count": 26,
     "metadata": {},
     "output_type": "execute_result"
    }
   ],
   "source": [
    "EXAMPLE_FILE = \"example\"\n",
    "INPUT_FILE = \"input\"\n",
    "sample_cycles = [20]\n",
    "for i in range(5):\n",
    "\tsample_cycles.append(sample_cycles[0] + 40 * (i + 1)) \n",
    "\n",
    "sample_cycles"
   ]
  },
  {
   "cell_type": "code",
   "execution_count": 27,
   "metadata": {},
   "outputs": [],
   "source": [
    "def prepare_data(file_name):\n",
    "\tinstructions = []\n",
    "\tdata = read_file(file_name)\n",
    "\tfor line in data:\n",
    "\t\tif line == 'noop':\n",
    "\t\t\tinstructions.append((line, 0, 1))\n",
    "\t\t\tcontinue\n",
    "\t\toperation, value = line.split(' ')\n",
    "\t\tinstructions.append((operation, int(value), 2))\n",
    "\treturn instructions\n",
    "\n",
    "example_instructions = prepare_data(EXAMPLE_FILE)\n",
    "instructions = prepare_data(INPUT_FILE)"
   ]
  },
  {
   "cell_type": "code",
   "execution_count": 28,
   "metadata": {},
   "outputs": [
    {
     "data": {
      "text/plain": [
       "13140"
      ]
     },
     "execution_count": 28,
     "metadata": {},
     "output_type": "execute_result"
    }
   ],
   "source": [
    "def execute(instructions):\n",
    "\tsignal_strength = 0\n",
    "\tcycle = 1\n",
    "\tvalue = 1\n",
    "\ti = 0\n",
    "\t_, value_to_add, execution_time = instructions[i]\n",
    "\twhile i < len(instructions) - 1:\n",
    "\t\tif cycle in sample_cycles:\n",
    "\t\t\tsignal_strength += cycle * value\n",
    "\t\texecution_time -= 1\n",
    "\t\tif execution_time == 0:\t\n",
    "\t\t\tvalue += value_to_add\n",
    "\t\t\ti += 1\n",
    "\t\t\t_, value_to_add, execution_time = instructions[i]\n",
    "\t\tcycle += 1\n",
    "\treturn signal_strength\n",
    "\n",
    "execute(example_instructions)"
   ]
  },
  {
   "cell_type": "code",
   "execution_count": 29,
   "metadata": {},
   "outputs": [
    {
     "data": {
      "text/plain": [
       "14560"
      ]
     },
     "execution_count": 29,
     "metadata": {},
     "output_type": "execute_result"
    }
   ],
   "source": [
    "execute(instructions)"
   ]
  }
 ],
 "metadata": {
  "kernelspec": {
   "display_name": "Python 3.7.5 64-bit",
   "language": "python",
   "name": "python3"
  },
  "language_info": {
   "codemirror_mode": {
    "name": "ipython",
    "version": 3
   },
   "file_extension": ".py",
   "mimetype": "text/x-python",
   "name": "python",
   "nbconvert_exporter": "python",
   "pygments_lexer": "ipython3",
   "version": "3.7.5"
  },
  "orig_nbformat": 4,
  "vscode": {
   "interpreter": {
    "hash": "31f2aee4e71d21fbe5cf8b01ff0e069b9275f58929596ceb00d14d90e3e16cd6"
   }
  }
 },
 "nbformat": 4,
 "nbformat_minor": 2
}
