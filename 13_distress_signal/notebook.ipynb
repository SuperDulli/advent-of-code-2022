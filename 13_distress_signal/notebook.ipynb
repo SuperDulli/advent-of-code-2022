{
 "cells": [
  {
   "cell_type": "code",
   "execution_count": 124,
   "metadata": {},
   "outputs": [],
   "source": [
    "def read_file(file_name):\n",
    "\twith open(file_name, \"r\") as f:\n",
    "\t\tdata = f.read().splitlines()\n",
    "\treturn data"
   ]
  },
  {
   "cell_type": "code",
   "execution_count": 125,
   "metadata": {},
   "outputs": [],
   "source": [
    "EXAMPLE_FILE = \"example\"\n",
    "INPUT_FILE = \"input\"\n",
    "# special divider packets\n",
    "divider_packets = [[[2]], [[6]]]"
   ]
  },
  {
   "cell_type": "code",
   "execution_count": 126,
   "metadata": {},
   "outputs": [],
   "source": [
    "def prepare_data(file_name):\n",
    "\tpairs = []\n",
    "\tpair = []\n",
    "\tfor line in read_file(file_name):\n",
    "\t\tif line == '':\n",
    "\t\t\tpairs.append(pair[:])\n",
    "\t\t\tpair = []\n",
    "\t\t\tcontinue\n",
    "\t\tpair.append(eval(line))\n",
    "\tpairs.append(pair[:])\n",
    "\treturn pairs\n",
    "\n",
    "example_pairs = prepare_data(EXAMPLE_FILE)\n",
    "pairs = prepare_data(INPUT_FILE)"
   ]
  },
  {
   "cell_type": "code",
   "execution_count": 127,
   "metadata": {},
   "outputs": [
    {
     "name": "stdout",
     "output_type": "stream",
     "text": [
      "-2\n",
      "1\n",
      "-2\n"
     ]
    }
   ],
   "source": [
    "def in_correct_order(lhs, rhs):\n",
    "\tif type(lhs) == int and type(rhs) == int:\n",
    "\t\treturn lhs - rhs\n",
    "\telif type(lhs) == list and type(rhs) == list:\n",
    "\t\tfor i in range(max(len(lhs), len(rhs))):\n",
    "\t\t\tif i not in range(len(lhs)):\n",
    "\t\t\t\treturn -1\n",
    "\t\t\telif i not in range(len(rhs)):\n",
    "\t\t\t\treturn 1\n",
    "\t\t\ta = lhs[i]\n",
    "\t\t\tb = rhs[i]\n",
    "\t\t\tresult = in_correct_order(a, b)\n",
    "\t\t\tif result != 0:\n",
    "\t\t\t\treturn result\n",
    "\t\treturn 0\n",
    "\telif type(lhs) == int:\n",
    "\t\treturn in_correct_order([lhs], rhs)\n",
    "\telse:\n",
    "\t\treturn in_correct_order(lhs, [rhs])\n",
    "\n",
    "\treturn False\n",
    "\n",
    "print(in_correct_order([1,1,3,1,1], [1,1,5,1,1]))\n",
    "print(in_correct_order([4,4,4,4], [4,4,4]))\n",
    "print(in_correct_order([[1],[2,3,4]], [[1],4]))"
   ]
  },
  {
   "cell_type": "code",
   "execution_count": 128,
   "metadata": {},
   "outputs": [
    {
     "data": {
      "text/plain": [
       "5588"
      ]
     },
     "execution_count": 128,
     "metadata": {},
     "output_type": "execute_result"
    }
   ],
   "source": [
    "def solve_part(pairs):\n",
    "\tindex = 1\n",
    "\tindex_sum = 0\n",
    "\tfor pair in pairs:\n",
    "\t\tif in_correct_order(pair[0], pair[1]) <= 0:\n",
    "\t\t\tindex_sum += index\n",
    "\t\tindex += 1\n",
    "\treturn index_sum\n",
    "\n",
    "solve_part(example_pairs)\n",
    "solve_part(pairs)\n",
    "\t"
   ]
  },
  {
   "cell_type": "code",
   "execution_count": 129,
   "metadata": {},
   "outputs": [],
   "source": [
    "def get_packets(file_name):\n",
    "\tpackets = divider_packets[:]\n",
    "\tfor line in read_file(file_name):\n",
    "\t\tif line != '':\n",
    "\t\t\tpackets.append(eval(line))\n",
    "\treturn packets\n",
    "\n",
    "example_packets = get_packets(EXAMPLE_FILE)\n",
    "packets = get_packets(INPUT_FILE)"
   ]
  },
  {
   "cell_type": "code",
   "execution_count": 130,
   "metadata": {},
   "outputs": [
    {
     "data": {
      "text/plain": [
       "23958"
      ]
     },
     "execution_count": 130,
     "metadata": {},
     "output_type": "execute_result"
    }
   ],
   "source": [
    "from functools import cmp_to_key\n",
    "\n",
    "def solve_part2(packets):\n",
    "\tresult = 1\n",
    "\tpackets.sort(key=cmp_to_key(in_correct_order))\n",
    "\tfor d in divider_packets:\n",
    "\t\tresult *= packets.index(d) + 1\n",
    "\treturn result\n",
    "\n",
    "solve_part2(example_packets)\n",
    "solve_part2(packets)"
   ]
  }
 ],
 "metadata": {
  "kernelspec": {
   "display_name": "Python 3.7.5 64-bit",
   "language": "python",
   "name": "python3"
  },
  "language_info": {
   "codemirror_mode": {
    "name": "ipython",
    "version": 3
   },
   "file_extension": ".py",
   "mimetype": "text/x-python",
   "name": "python",
   "nbconvert_exporter": "python",
   "pygments_lexer": "ipython3",
   "version": "3.7.5"
  },
  "orig_nbformat": 4,
  "vscode": {
   "interpreter": {
    "hash": "31f2aee4e71d21fbe5cf8b01ff0e069b9275f58929596ceb00d14d90e3e16cd6"
   }
  }
 },
 "nbformat": 4,
 "nbformat_minor": 2
}
