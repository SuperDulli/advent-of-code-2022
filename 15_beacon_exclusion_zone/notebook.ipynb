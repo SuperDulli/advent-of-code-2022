{
 "cells": [
  {
   "cell_type": "code",
   "execution_count": 40,
   "metadata": {},
   "outputs": [],
   "source": [
    "def read_file(file_name):\n",
    "\twith open(file_name, \"r\") as f:\n",
    "\t\tdata = f.read().splitlines()\n",
    "\treturn data"
   ]
  },
  {
   "cell_type": "code",
   "execution_count": 41,
   "metadata": {},
   "outputs": [],
   "source": [
    "EXAMPLE_FILE = \"example\"\n",
    "INPUT_FILE = \"input\""
   ]
  },
  {
   "cell_type": "code",
   "execution_count": 42,
   "metadata": {},
   "outputs": [],
   "source": [
    "def cab_distance(start, destination):\n",
    "\treturn abs(start[0] - destination[0]) + abs(start[1] - destination[1])"
   ]
  },
  {
   "cell_type": "code",
   "execution_count": 47,
   "metadata": {},
   "outputs": [
    {
     "data": {
      "text/plain": [
       "({(2, 18): 7,\n",
       "  (9, 16): 1,\n",
       "  (13, 2): 3,\n",
       "  (12, 14): 4,\n",
       "  (10, 20): 4,\n",
       "  (14, 17): 5,\n",
       "  (8, 7): 9,\n",
       "  (2, 0): 10,\n",
       "  (0, 11): 3,\n",
       "  (20, 14): 8,\n",
       "  (17, 20): 6,\n",
       "  (16, 7): 5,\n",
       "  (14, 3): 1,\n",
       "  (20, 1): 7},\n",
       " [(-2, 15),\n",
       "  (10, 16),\n",
       "  (15, 3),\n",
       "  (10, 16),\n",
       "  (10, 16),\n",
       "  (10, 16),\n",
       "  (2, 10),\n",
       "  (2, 10),\n",
       "  (2, 10),\n",
       "  (25, 17),\n",
       "  (21, 22),\n",
       "  (15, 3),\n",
       "  (15, 3),\n",
       "  (15, 3)])"
      ]
     },
     "execution_count": 47,
     "metadata": {},
     "output_type": "execute_result"
    }
   ],
   "source": [
    "def prepare_data(file_name):\n",
    "\tsensor_map = {}\n",
    "\tbeacons = []\n",
    "\tdata = read_file(file_name)\n",
    "\tfor line in data:\n",
    "\t\tline = line.split(' ')\n",
    "\t\tsensor_x = int(line[2][2:-1])\n",
    "\t\tsensor_y = int(line[3][2:-1])\n",
    "\t\tbeacon_x = int(line[8][2:-1])\n",
    "\t\tbeacon_y = int(line[9][2:])\n",
    "\t\tdistance = cab_distance((sensor_x, sensor_y), (beacon_x, beacon_y))\n",
    "\t\tsensor_map[(sensor_x, sensor_y)] = distance\t\n",
    "\t\tbeacons.append((beacon_x, beacon_y))\n",
    "\treturn (sensor_map, beacons)\n",
    "\n",
    "sensor_map, beacons = prepare_data(EXAMPLE_FILE)\n",
    "sensor_map, beacons"
   ]
  },
  {
   "cell_type": "code",
   "execution_count": 44,
   "metadata": {},
   "outputs": [
    {
     "data": {
      "text/plain": [
       "(-10, 30)"
      ]
     },
     "execution_count": 44,
     "metadata": {},
     "output_type": "execute_result"
    }
   ],
   "source": [
    "def find_extremas(sensor_map):\n",
    "\tmax_distance = max(sensor_map.values())\n",
    "\tx_coords = [x for x,y in sensor_map.keys()]\n",
    "\treturn (min(x_coords) - max_distance, max(x_coords) + max_distance)\n",
    "\n",
    "find_extremas(sensor_map)"
   ]
  },
  {
   "cell_type": "code",
   "execution_count": 45,
   "metadata": {},
   "outputs": [
    {
     "data": {
      "text/plain": [
       "False"
      ]
     },
     "execution_count": 45,
     "metadata": {},
     "output_type": "execute_result"
    }
   ],
   "source": [
    "def reachable_from_sensor(pos, sensor_map):\n",
    "\tfor sensor_pos, distance in sensor_map.items():\n",
    "\t\tif cab_distance(sensor_pos, pos) <= distance:\n",
    "\t\t\treturn True\n",
    "\treturn False\n",
    "\n",
    "reachable_from_sensor((-3,10), sensor_map)"
   ]
  },
  {
   "cell_type": "code",
   "execution_count": 52,
   "metadata": {},
   "outputs": [
    {
     "name": "stdout",
     "output_type": "stream",
     "text": [
      "Example: 26\n",
      "Puzzle: 6078701\n"
     ]
    }
   ],
   "source": [
    "def solve_part1(file_name, row):\n",
    "\tcount = 0\n",
    "\tsensor_map, beacons = prepare_data(file_name)\n",
    "\tmin_x, max_x = find_extremas(sensor_map)\n",
    "\tfor x in range(min_x, max_x + 1):\n",
    "\t\tif reachable_from_sensor((x, row), sensor_map):\n",
    "\t\t\tcount += 1\n",
    "\t\tif (x, row) in beacons:\n",
    "\t\t\tcount -= 1\n",
    "\treturn count\n",
    "\n",
    "print(f\"Example: {solve_part1(EXAMPLE_FILE, 10)}\")\n",
    "print(f\"Puzzle: {solve_part1(INPUT_FILE, 2_000_000)}\")"
   ]
  }
 ],
 "metadata": {
  "kernelspec": {
   "display_name": "Python 3.7.5 64-bit",
   "language": "python",
   "name": "python3"
  },
  "language_info": {
   "codemirror_mode": {
    "name": "ipython",
    "version": 3
   },
   "file_extension": ".py",
   "mimetype": "text/x-python",
   "name": "python",
   "nbconvert_exporter": "python",
   "pygments_lexer": "ipython3",
   "version": "3.7.5"
  },
  "orig_nbformat": 4,
  "vscode": {
   "interpreter": {
    "hash": "31f2aee4e71d21fbe5cf8b01ff0e069b9275f58929596ceb00d14d90e3e16cd6"
   }
  }
 },
 "nbformat": 4,
 "nbformat_minor": 2
}
