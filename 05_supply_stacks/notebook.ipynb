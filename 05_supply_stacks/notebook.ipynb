{
 "cells": [
  {
   "cell_type": "code",
   "execution_count": 372,
   "metadata": {},
   "outputs": [],
   "source": [
    "def read_file(file_name):\n",
    "\twith open(file_name, \"r\") as f:\n",
    "\t\tdata = f.read().splitlines()\n",
    "\treturn data"
   ]
  },
  {
   "cell_type": "code",
   "execution_count": 373,
   "metadata": {},
   "outputs": [],
   "source": [
    "EXAMPLE_FILE = \"example\"\n",
    "INPUT_FILE = \"input\""
   ]
  },
  {
   "cell_type": "code",
   "execution_count": 374,
   "metadata": {},
   "outputs": [],
   "source": [
    "def split_columns(line, n):\n",
    "\treturn [line[i:i+n] for i in range(0, len(line), n + 1)]"
   ]
  },
  {
   "cell_type": "code",
   "execution_count": 375,
   "metadata": {},
   "outputs": [],
   "source": [
    "def build_stacks(stack_data):\n",
    "\tstack_data.reverse()\n",
    "\tstack_count = int(stack_data[0].split(' ')[-1])\n",
    "\tstacks = [[] for i in range(stack_count)]\n",
    "\tfor line in stack_data[1:]:\n",
    "\t\tcolumns = split_columns(line, 3)\n",
    "\t\tfor (i,item) in enumerate(columns):\n",
    "\t\t\tif item[1] != ' ':\n",
    "\t\t\t\tstacks[i].append(item[1])\n",
    "\treturn stacks\n"
   ]
  },
  {
   "cell_type": "code",
   "execution_count": 376,
   "metadata": {},
   "outputs": [],
   "source": [
    "def get_moves(move_data):\n",
    "\tmoves = []\n",
    "\tfor line in move_data:\n",
    "\t\t_, count, _, src, _, dest = line.split(' ')\n",
    "\t\tmoves.append((int(count), int(src), int(dest)))\n",
    "\treturn moves"
   ]
  },
  {
   "cell_type": "code",
   "execution_count": 377,
   "metadata": {},
   "outputs": [
    {
     "data": {
      "text/plain": [
       "([['Z', 'N'], ['M', 'C', 'D'], ['P']],\n",
       " [(1, 2, 1), (3, 1, 3), (2, 2, 1), (1, 1, 2)])"
      ]
     },
     "execution_count": 377,
     "metadata": {},
     "output_type": "execute_result"
    }
   ],
   "source": [
    "def prepare_data(file_name):\n",
    "\tdata = read_file(file_name)\n",
    "\tindex_empty_line = data.index('')\n",
    "\tstack_data = data[:index_empty_line]\n",
    "\tmove_data = data[index_empty_line+1:]\n",
    "\tstacks = build_stacks(stack_data)\n",
    "\tmoves = get_moves(move_data)\n",
    "\treturn stacks, moves\n",
    "\n",
    "prepare_data(EXAMPLE_FILE)"
   ]
  },
  {
   "cell_type": "code",
   "execution_count": 378,
   "metadata": {},
   "outputs": [
    {
     "data": {
      "text/plain": [
       "['    [D]',\n",
       " '[N] [C]',\n",
       " '[Z] [M] [P]',\n",
       " ' 1   2   3',\n",
       " '',\n",
       " 'move 1 from 2 to 1',\n",
       " 'move 3 from 1 to 3',\n",
       " 'move 2 from 2 to 1',\n",
       " 'move 1 from 1 to 2']"
      ]
     },
     "execution_count": 378,
     "metadata": {},
     "output_type": "execute_result"
    }
   ],
   "source": [
    "read_file(EXAMPLE_FILE)"
   ]
  },
  {
   "cell_type": "code",
   "execution_count": 379,
   "metadata": {},
   "outputs": [],
   "source": [
    "\n",
    "def move_items(stacks, moves):\n",
    "\tfor move in moves:\n",
    "\t\tcount, src, dest = move\n",
    "\t\tfor _ in range(count):\n",
    "\t\t\tstacks[dest - 1].append(stacks[src - 1].pop())\n",
    "\treturn stacks"
   ]
  },
  {
   "cell_type": "code",
   "execution_count": 380,
   "metadata": {},
   "outputs": [],
   "source": [
    "def solve_part1(stacks, moves):\n",
    "\tstacks = move_items(stacks, moves)\n",
    "\treturn ''.join([stack[-1] for stack in stacks])"
   ]
  },
  {
   "cell_type": "code",
   "execution_count": 381,
   "metadata": {},
   "outputs": [
    {
     "name": "stdout",
     "output_type": "stream",
     "text": [
      "part 1 (example):\n",
      "CMZ\n",
      "part 1 (puzzle):\n",
      "JCMHLVGMG\n"
     ]
    }
   ],
   "source": [
    "print(\"part 1 (example):\")\n",
    "print(solve_part1(*prepare_data(EXAMPLE_FILE)))\n",
    "print(\"part 1 (puzzle):\")\n",
    "print(solve_part1(*prepare_data(INPUT_FILE)))"
   ]
  },
  {
   "cell_type": "code",
   "execution_count": 386,
   "metadata": {},
   "outputs": [],
   "source": [
    "def move_stacks(stacks, moves):\n",
    "\tfor move in moves:\n",
    "\t\t# print(stacks, move)\n",
    "\t\tcount, src, dest = move\n",
    "\t\tsrc = stacks[src - 1]\n",
    "\t\tdest = stacks[dest - 1]\n",
    "\t\tdest.extend(src[(len(src) - count):])\n",
    "\t\tdel src[(len(src) - count):]\n",
    "\treturn stacks"
   ]
  },
  {
   "cell_type": "code",
   "execution_count": 383,
   "metadata": {},
   "outputs": [],
   "source": [
    "def solve_part2(stacks, moves):\n",
    "\tstacks = move_stacks(stacks, moves)\n",
    "\treturn ''.join([stack[-1] for stack in stacks])"
   ]
  },
  {
   "cell_type": "code",
   "execution_count": 387,
   "metadata": {},
   "outputs": [
    {
     "name": "stdout",
     "output_type": "stream",
     "text": [
      "part 2 (example):\n",
      "MCD\n",
      "part 2 (puzzle):\n",
      "LVMRWSSPZ\n"
     ]
    }
   ],
   "source": [
    "print(\"part 2 (example):\")\n",
    "print(solve_part2(*prepare_data(EXAMPLE_FILE)))\n",
    "print(\"part 2 (puzzle):\")\n",
    "print(solve_part2(*prepare_data(INPUT_FILE)))"
   ]
  }
 ],
 "metadata": {
  "kernelspec": {
   "display_name": "Python 3.7.5 64-bit",
   "language": "python",
   "name": "python3"
  },
  "language_info": {
   "codemirror_mode": {
    "name": "ipython",
    "version": 3
   },
   "file_extension": ".py",
   "mimetype": "text/x-python",
   "name": "python",
   "nbconvert_exporter": "python",
   "pygments_lexer": "ipython3",
   "version": "3.7.5"
  },
  "orig_nbformat": 4,
  "vscode": {
   "interpreter": {
    "hash": "31f2aee4e71d21fbe5cf8b01ff0e069b9275f58929596ceb00d14d90e3e16cd6"
   }
  }
 },
 "nbformat": 4,
 "nbformat_minor": 2
}
