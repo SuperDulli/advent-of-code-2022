{
 "cells": [
  {
   "cell_type": "code",
   "execution_count": 52,
   "metadata": {},
   "outputs": [],
   "source": [
    "def read_file(file_name):\n",
    "\twith open(file_name, \"r\") as f:\n",
    "\t\tdata = f.read().splitlines()\n",
    "\treturn data"
   ]
  },
  {
   "cell_type": "code",
   "execution_count": 53,
   "metadata": {},
   "outputs": [],
   "source": [
    "EXAMPLE_FILE = \"example\"\n",
    "INPUT_FILE = \"input\""
   ]
  },
  {
   "cell_type": "code",
   "execution_count": 54,
   "metadata": {},
   "outputs": [],
   "source": [
    "class HeightMap:\n",
    "\tdef __init__(self, elevations, start_pos, finish_pos):\n",
    "\t\tself.elevations = elevations[:]\n",
    "\t\tself.width = len(self.elevations[0])\n",
    "\t\tself.height = len(self.elevations)\n",
    "\t\tself.start_pos = start_pos\n",
    "\t\tself.finish_pos = finish_pos\n",
    "\n",
    "\tdef get_tile_height(self, pos):\n",
    "\t\tx, y = pos\n",
    "\t\treturn self.elevations[y][x]\n",
    "\t\n",
    "\tdef is_adjacent(self, pos1, pos2): # is pos2 (from pos1) at most 1 step down?\n",
    "\t\treturn self.get_tile_height(pos1) <= self.get_tile_height(pos2) + 1\n",
    "\n",
    "\tdef get_neighbours(self, pos):\n",
    "\t\tnbrs = []\n",
    "\t\tx, y = pos\n",
    "\t\tif x > 0 and self.is_adjacent(pos, (x-1,y)):\n",
    "\t\t\tnbrs.append((x-1,y))\n",
    "\t\tif x < self.width - 1 and self.is_adjacent(pos, (x+1,y)):\n",
    "\t\t\tnbrs.append((x+1,y))\n",
    "\t\tif y > 0 and self.is_adjacent(pos, (x,y-1)):\n",
    "\t\t\tnbrs.append((x,y-1))\n",
    "\t\tif y < self.height - 1 and self.is_adjacent(pos, (x,y+1)):\n",
    "\t\t\tnbrs.append((x,y+1))\n",
    "\t\treturn nbrs\n",
    "\n",
    "\tdef go_to_start(self):\n",
    "\t\tvisited = [self.finish_pos]\n",
    "\t\tfully_checked = []\n",
    "\t\tsteps = 0\n",
    "\t\twhile self.start_pos not in visited:\n",
    "\t\t\tsteps += 1\n",
    "\t\t\tnew_visited = []\n",
    "\t\t\tfor pos in visited:\n",
    "\t\t\t\tfor n in self.get_neighbours(pos):\n",
    "\t\t\t\t\tif n not in visited and n not in fully_checked and n not in new_visited:\n",
    "\t\t\t\t\t\tnew_visited.append(n)\n",
    "\t\t\t\tfully_checked.append(pos)\n",
    "\t\t\tvisited = new_visited\n",
    "\t\treturn steps\n",
    "\n",
    "\tdef go_to_flat(self):\n",
    "\t\tvisited = [self.finish_pos]\n",
    "\t\tfully_checked = []\n",
    "\t\tsteps = 0\n",
    "\t\twhile 1 not in [self.get_tile_height(pos) for pos in visited]:\n",
    "\t\t\tsteps += 1\n",
    "\t\t\tnew_visited = []\n",
    "\t\t\tfor pos in visited:\n",
    "\t\t\t\tfor n in self.get_neighbours(pos):\n",
    "\t\t\t\t\tif n not in visited and n not in fully_checked and n not in new_visited:\n",
    "\t\t\t\t\t\tnew_visited.append(n)\n",
    "\t\t\t\tfully_checked.append(pos)\n",
    "\t\t\tvisited = new_visited\n",
    "\t\treturn steps"
   ]
  },
  {
   "cell_type": "code",
   "execution_count": 55,
   "metadata": {},
   "outputs": [],
   "source": [
    "def prepare_data(file_name):\n",
    "\theight_map = []\n",
    "\tstart_pos = None\n",
    "\tfinish_pos = None\n",
    "\tdata = read_file(file_name)\n",
    "\tfor y,line in enumerate(data):\n",
    "\t\trow = []\n",
    "\t\tfor x,tile in enumerate(line):\n",
    "\t\t\tif tile == 'S':\n",
    "\t\t\t\tstart_pos = (x, y)\n",
    "\t\t\t\ttile = 'a'\n",
    "\t\t\telif tile == 'E':\n",
    "\t\t\t\tfinish_pos = (x, y)\n",
    "\t\t\t\ttile = 'z'\n",
    "\t\t\trow.append(ord(tile) - 96)\n",
    "\t\theight_map.append(row[:])\n",
    "\treturn HeightMap(height_map, start_pos, finish_pos)\n",
    "\n",
    "example_height_map = prepare_data(EXAMPLE_FILE)\n",
    "height_map = prepare_data(INPUT_FILE)"
   ]
  },
  {
   "cell_type": "code",
   "execution_count": 56,
   "metadata": {},
   "outputs": [
    {
     "name": "stdout",
     "output_type": "stream",
     "text": [
      "31\n",
      "484\n"
     ]
    }
   ],
   "source": [
    "def solve_part1(height_map):\n",
    "\treturn height_map.go_to_start()\n",
    "\n",
    "print(solve_part1(example_height_map))\n",
    "print(solve_part1(height_map))"
   ]
  },
  {
   "cell_type": "code",
   "execution_count": 57,
   "metadata": {},
   "outputs": [
    {
     "name": "stdout",
     "output_type": "stream",
     "text": [
      "29\n",
      "478\n"
     ]
    }
   ],
   "source": [
    "def solve_part1(height_map):\n",
    "\treturn height_map.go_to_flat()\n",
    "\n",
    "print(solve_part1(example_height_map))\n",
    "print(solve_part1(height_map))"
   ]
  }
 ],
 "metadata": {
  "kernelspec": {
   "display_name": "Python 3.7.5 64-bit",
   "language": "python",
   "name": "python3"
  },
  "language_info": {
   "codemirror_mode": {
    "name": "ipython",
    "version": 3
   },
   "file_extension": ".py",
   "mimetype": "text/x-python",
   "name": "python",
   "nbconvert_exporter": "python",
   "pygments_lexer": "ipython3",
   "version": "3.7.5"
  },
  "orig_nbformat": 4,
  "vscode": {
   "interpreter": {
    "hash": "31f2aee4e71d21fbe5cf8b01ff0e069b9275f58929596ceb00d14d90e3e16cd6"
   }
  }
 },
 "nbformat": 4,
 "nbformat_minor": 2
}
