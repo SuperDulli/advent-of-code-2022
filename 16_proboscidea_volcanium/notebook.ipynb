{
 "cells": [
  {
   "cell_type": "code",
   "execution_count": 157,
   "metadata": {},
   "outputs": [],
   "source": [
    "def read_file(file_name):\n",
    "\twith open(file_name, \"r\") as f:\n",
    "\t\tdata = f.read().splitlines()\n",
    "\treturn data"
   ]
  },
  {
   "cell_type": "code",
   "execution_count": 158,
   "metadata": {},
   "outputs": [],
   "source": [
    "EXAMPLE_FILE = \"example\"\n",
    "INPUT_FILE = \"input\"\n",
    "time_left = 30"
   ]
  },
  {
   "cell_type": "code",
   "execution_count": 159,
   "metadata": {},
   "outputs": [],
   "source": [
    "from dataclasses import dataclass\n",
    "\n",
    "@dataclass\n",
    "class Valve:\n",
    "\tname: str\n",
    "\tflow_rate: int\n",
    "\ttunnels: list"
   ]
  },
  {
   "cell_type": "code",
   "execution_count": 160,
   "metadata": {},
   "outputs": [],
   "source": [
    "def prepare_data(file_name):\n",
    "\tvalves = {}\n",
    "\tdata = read_file(file_name)\n",
    "\tfor line in data:\n",
    "\t\tline = line.split(' ')\n",
    "\t\tvalves[line[1]] = Valve(line[1], int(line[4][5:-1]), [v[:-1] if len(v) > 2 else v for v in line[9:]])\n",
    "\treturn valves\n",
    "\n",
    "example_valves = prepare_data(EXAMPLE_FILE)"
   ]
  },
  {
   "cell_type": "code",
   "execution_count": 161,
   "metadata": {},
   "outputs": [],
   "source": [
    "def valve_distance(valves, start: str, end: str):\n",
    "\tprint(f\"distance {start} -> {end}\")\n",
    "\tif start == end:\n",
    "\t\treturn 0\n",
    "\tif end in valves[start].tunnels:\n",
    "\t\treturn 1\n",
    "\tdistance = 0\n",
    "\tqueue = [start]\n",
    "\tnew_queue = []\n",
    "\twhile end not in queue:\n",
    "\t\tnew_queue.extend(valves[queue.pop(0)].tunnels)\n",
    "\t\tif not queue:\n",
    "\t\t\tqueue = new_queue\n",
    "\t\t\tnew_queue = []\n",
    "\t\t\tdistance += 1\n",
    "\treturn distance"
   ]
  },
  {
   "cell_type": "code",
   "execution_count": 162,
   "metadata": {},
   "outputs": [
    {
     "name": "stdout",
     "output_type": "stream",
     "text": [
      "Valve(name='AA', flow_rate=0, tunnels=['DD', 'II', 'BB'])\n",
      "distance AA -> AA\n",
      "0\n",
      "Valve(name='BB', flow_rate=13, tunnels=['CC', 'AA'])\n",
      "distance AA -> BB\n",
      "12\n",
      "Valve(name='CC', flow_rate=2, tunnels=['DD', 'BB'])\n",
      "distance AA -> CC\n",
      "0\n",
      "Valve(name='DD', flow_rate=20, tunnels=['CC', 'AA', 'EE'])\n",
      "distance AA -> DD\n",
      "19\n",
      "Valve(name='EE', flow_rate=3, tunnels=['FF', 'DD'])\n",
      "distance AA -> EE\n",
      "1\n",
      "Valve(name='FF', flow_rate=0, tunnels=['EE', 'GG'])\n",
      "distance AA -> FF\n",
      "-3\n",
      "Valve(name='GG', flow_rate=0, tunnels=['FF', 'HH'])\n",
      "distance AA -> GG\n",
      "-4\n",
      "Valve(name='HH', flow_rate=22, tunnels=['GG'])\n",
      "distance AA -> HH\n",
      "17\n",
      "Valve(name='II', flow_rate=0, tunnels=['AA', 'JJ'])\n",
      "distance AA -> II\n",
      "-1\n",
      "Valve(name='JJ', flow_rate=21, tunnels=['II'])\n",
      "distance AA -> JJ\n",
      "19\n"
     ]
    },
    {
     "data": {
      "text/plain": [
       "{'AA': 0,\n",
       " 'BB': 12,\n",
       " 'CC': 0,\n",
       " 'DD': 19,\n",
       " 'EE': 1,\n",
       " 'FF': -3,\n",
       " 'GG': -4,\n",
       " 'HH': 17,\n",
       " 'II': -1,\n",
       " 'JJ': 19}"
      ]
     },
     "execution_count": 162,
     "metadata": {},
     "output_type": "execute_result"
    }
   ],
   "source": [
    "def relative_score(valves, pos: str):\n",
    "\tscores = {}\n",
    "\tfor valve in valves.values():\n",
    "\t\tprint(valve)\n",
    "\t\tscore = valve.flow_rate - valve_distance(valves, pos, valve.name)\n",
    "\t\tprint(score)\n",
    "\t\tscores[valve.name] = score\n",
    "\treturn scores\n",
    "\n",
    "relative_score(example_valves, 'AA')"
   ]
  },
  {
   "attachments": {},
   "cell_type": "markdown",
   "metadata": {},
   "source": [
    "try to find strongly connented parts"
   ]
  },
  {
   "cell_type": "code",
   "execution_count": 163,
   "metadata": {},
   "outputs": [],
   "source": [
    "def visit(valve, visited, valves, queue):\n",
    "\tif valve.name in visited:\n",
    "\t\treturn \n",
    "\tprint(f\"visit {valve.name}\", visited)\n",
    "\tvisited.add(valve.name)\n",
    "\tfor nbr in valve.tunnels:\n",
    "\t\tif nbr not in visited:\n",
    "\t\t\tvisit(valves[nbr], visited, valves, queue)\n",
    "\t\tqueue.insert(0, valve.name)\n"
   ]
  },
  {
   "cell_type": "code",
   "execution_count": 164,
   "metadata": {},
   "outputs": [],
   "source": [
    "def assign(valve, root, valves, assignments):\n",
    "\tif valve in assignments.keys():\n",
    "\t\treturn\n",
    "\tprint(f\"assign {valve} to {root}\")\n",
    "\tassignments[valve] = root\n",
    "\tfor nbr in valves[valve].tunnels:\n",
    "\t\tassign(nbr, root, valves, assignments)"
   ]
  },
  {
   "cell_type": "code",
   "execution_count": 167,
   "metadata": {},
   "outputs": [
    {
     "name": "stdout",
     "output_type": "stream",
     "text": [
      "visit AA set()\n",
      "visit DD {'AA'}\n",
      "visit CC {'DD', 'AA'}\n",
      "visit BB {'CC', 'DD', 'AA'}\n",
      "visit EE {'CC', 'DD', 'AA', 'BB'}\n",
      "visit FF {'CC', 'AA', 'EE', 'DD', 'BB'}\n",
      "visit GG {'CC', 'AA', 'EE', 'DD', 'BB', 'FF'}\n",
      "visit HH {'CC', 'AA', 'EE', 'DD', 'GG', 'BB', 'FF'}\n",
      "visit II {'CC', 'AA', 'EE', 'DD', 'GG', 'BB', 'HH', 'FF'}\n",
      "visit JJ {'CC', 'AA', 'EE', 'DD', 'GG', 'BB', 'HH', 'II', 'FF'}\n",
      "['AA', 'AA', 'II', 'JJ', 'II', 'AA', 'DD', 'EE', 'EE', 'FF', 'GG', 'HH', 'GG', 'FF', 'DD', 'DD', 'CC', 'BB', 'BB', 'CC']\n",
      "assign AA to AA\n",
      "assign DD to AA\n",
      "assign CC to AA\n",
      "assign BB to AA\n",
      "assign EE to AA\n",
      "assign FF to AA\n",
      "assign GG to AA\n",
      "assign HH to AA\n",
      "assign II to AA\n",
      "assign JJ to AA\n",
      "dict_values(['AA', 'AA', 'AA', 'AA', 'AA', 'AA', 'AA', 'AA', 'AA', 'AA'])\n"
     ]
    }
   ],
   "source": [
    "def strongly_connected(valves):\n",
    "\tvisited = set()\n",
    "\tqueue = []\n",
    "\tassignments = {}\n",
    "\tfor valve in valves.values():\n",
    "\t\tvisit(valve, visited, valves, queue)\n",
    "\tprint(queue)\n",
    "\tfor valve in queue:\n",
    "\t\tassign(valve, valve, valves, assignments)\n",
    "\tprint(assignments.values())\n",
    "\n",
    "strongly_connected(example_valves)"
   ]
  },
  {
   "attachments": {},
   "cell_type": "markdown",
   "metadata": {},
   "source": [
    "strongly connented parts does not seem helpful :C"
   ]
  },
  {
   "cell_type": "code",
   "execution_count": 166,
   "metadata": {},
   "outputs": [
    {
     "name": "stdout",
     "output_type": "stream",
     "text": [
      "distance AA -> AA\n",
      "AA 0\n",
      "distance AA -> BB\n",
      "BB 1\n",
      "distance AA -> CC\n",
      "CC 2\n",
      "distance AA -> DD\n",
      "DD 1\n",
      "distance AA -> EE\n",
      "EE 2\n",
      "distance AA -> FF\n",
      "FF 3\n",
      "distance AA -> GG\n",
      "GG 4\n",
      "distance AA -> HH\n",
      "HH 5\n",
      "distance AA -> II\n",
      "II 1\n",
      "distance AA -> JJ\n",
      "JJ 2\n"
     ]
    }
   ],
   "source": [
    "def solve_part1(file_name):\n",
    "\tvalves = prepare_data(file_name)\n",
    "\tvalve = 'AA'\n",
    "\tfor v in valves:\n",
    "\t\tprint(v, valve_distance(valves, valve, v))\n",
    "\n",
    "solve_part1(EXAMPLE_FILE)"
   ]
  }
 ],
 "metadata": {
  "kernelspec": {
   "display_name": "Python 3.7.5 64-bit",
   "language": "python",
   "name": "python3"
  },
  "language_info": {
   "codemirror_mode": {
    "name": "ipython",
    "version": 3
   },
   "file_extension": ".py",
   "mimetype": "text/x-python",
   "name": "python",
   "nbconvert_exporter": "python",
   "pygments_lexer": "ipython3",
   "version": "3.7.5 (default, Dec  9 2021, 17:04:37) \n[GCC 8.4.0]"
  },
  "orig_nbformat": 4,
  "vscode": {
   "interpreter": {
    "hash": "31f2aee4e71d21fbe5cf8b01ff0e069b9275f58929596ceb00d14d90e3e16cd6"
   }
  }
 },
 "nbformat": 4,
 "nbformat_minor": 2
}
