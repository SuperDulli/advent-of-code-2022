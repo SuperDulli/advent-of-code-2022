{
 "cells": [
  {
   "cell_type": "code",
   "execution_count": 90,
   "metadata": {},
   "outputs": [],
   "source": [
    "def read_file(file_name):\n",
    "\twith open(file_name, \"r\") as f:\n",
    "\t\tdata = f.read().splitlines()\n",
    "\treturn data"
   ]
  },
  {
   "cell_type": "code",
   "execution_count": 91,
   "metadata": {},
   "outputs": [],
   "source": [
    "EXAMPLE_FILE = \"example\"\n",
    "INPUT_FILE = \"input\"\n",
    "directions = [(0,1), (0,-1), (1,0), (-1,0)]\n",
    "example_trees = list(read_file(EXAMPLE_FILE))\n",
    "trees = list(read_file(INPUT_FILE))"
   ]
  },
  {
   "cell_type": "code",
   "execution_count": 92,
   "metadata": {},
   "outputs": [
    {
     "data": {
      "text/plain": [
       "1"
      ]
     },
     "execution_count": 92,
     "metadata": {},
     "output_type": "execute_result"
    }
   ],
   "source": [
    "def is_visible(trees, x, y, x_max, y_max):\n",
    "\ttree = int(trees[y][x])\n",
    "\tfor direction in directions:\n",
    "\t\ti,j = x,y\n",
    "\t\ti_,j_ = direction\n",
    "\t\ti += i_\n",
    "\t\tj += j_\n",
    "\t\tvisible = 1\n",
    "\t\twhile visible == 1 and 0 <= i and i < x_max and 0 <= j and j < y_max:\n",
    "\t\t\tif int(trees[j][i]) >= tree:\n",
    "\t\t\t\tvisible = 0\n",
    "\t\t\ti += i_\n",
    "\t\t\tj += j_\n",
    "\t\tif visible == 1:\n",
    "\t\t\treturn 1\n",
    "\treturn 0\n",
    "\n",
    "is_visible(example_trees, 1, 1, 5, 5)"
   ]
  },
  {
   "cell_type": "code",
   "execution_count": 93,
   "metadata": {},
   "outputs": [
    {
     "data": {
      "text/plain": [
       "[[1, 1, 1, 1, 1],\n",
       " [1, 1, 1, 0, 1],\n",
       " [1, 1, 0, 1, 1],\n",
       " [1, 0, 1, 0, 1],\n",
       " [1, 1, 1, 1, 1]]"
      ]
     },
     "execution_count": 93,
     "metadata": {},
     "output_type": "execute_result"
    }
   ],
   "source": [
    "def check_visiblities(trees):\n",
    "\tvisible_matrix = []\n",
    "\tfor y,line in enumerate(trees):\n",
    "\t\trow = []\n",
    "\t\tif y == 0 or y == len(trees) - 1:\n",
    "\t\t\tvisible_matrix.append([1] * len(trees))\n",
    "\t\t\tcontinue\n",
    "\t\tfor x,tree in enumerate(line):\n",
    "\t\t\tif x == 0 or x == len(line) - 1:\n",
    "\t\t\t\trow.append(1)\n",
    "\t\t\telse:\n",
    "\t\t\t\t# print(x, y, tree, is_visible(trees, x, y, len(line), len(trees)))\n",
    "\t\t\t\trow.append(is_visible(trees, x, y, len(line), len(trees)))\n",
    "\t\tvisible_matrix.append(row[:])\n",
    "\treturn visible_matrix\n",
    "\n",
    "check_visiblities(example_trees)"
   ]
  },
  {
   "cell_type": "code",
   "execution_count": 94,
   "metadata": {},
   "outputs": [
    {
     "name": "stdout",
     "output_type": "stream",
     "text": [
      "21\n",
      "1763\n"
     ]
    }
   ],
   "source": [
    "def solve_part1(trees):\n",
    "\tvisible_matrix = check_visiblities(trees)\n",
    "\tcount = 0\n",
    "\tfor line in visible_matrix:\n",
    "\t\tfor tree in line:\n",
    "\t\t\tif tree == 1:\n",
    "\t\t\t\tcount += 1\n",
    "\treturn count\n",
    "\n",
    "print(solve_part1(example_trees))\n",
    "print(solve_part1(trees))"
   ]
  },
  {
   "cell_type": "code",
   "execution_count": 95,
   "metadata": {},
   "outputs": [
    {
     "data": {
      "text/plain": [
       "4"
      ]
     },
     "execution_count": 95,
     "metadata": {},
     "output_type": "execute_result"
    }
   ],
   "source": [
    "def scenic_score(trees, x, y, x_max, y_max):\n",
    "\tscore = 1\n",
    "\ttree = int(trees[y][x])\n",
    "\tfor direction in directions:\n",
    "\t\ti,j = x,y\n",
    "\t\ti_,j_ = direction\n",
    "\t\ti += i_\n",
    "\t\tj += j_\n",
    "\t\tvisible = 0\n",
    "\t\tblocked = False\n",
    "\t\twhile not blocked and 0 <= i and i < x_max and 0 <= j and j < y_max:\n",
    "\t\t\tvisible += 1\n",
    "\t\t\tif int(trees[j][i]) >= tree:\n",
    "\t\t\t\tblocked = True\n",
    "\t\t\ti += i_\n",
    "\t\t\tj += j_\n",
    "\t\tscore *= visible\n",
    "\treturn score\n",
    "\n",
    "scenic_score(example_trees, 2, 1, 5, 5)"
   ]
  },
  {
   "cell_type": "code",
   "execution_count": 96,
   "metadata": {},
   "outputs": [
    {
     "data": {
      "text/plain": [
       "[[0, 0, 0, 0, 0],\n",
       " [0, 1, 4, 1, 0],\n",
       " [0, 6, 1, 2, 0],\n",
       " [0, 1, 8, 3, 0],\n",
       " [0, 0, 0, 0, 0]]"
      ]
     },
     "execution_count": 96,
     "metadata": {},
     "output_type": "execute_result"
    }
   ],
   "source": [
    "def check_score(trees):\n",
    "\tscore_matrix = []\n",
    "\tfor y,line in enumerate(trees):\n",
    "\t\trow = []\n",
    "\t\tif y == 0 or y == len(trees) - 1:\n",
    "\t\t\tscore_matrix.append([0] * len(trees))\n",
    "\t\t\tcontinue\n",
    "\t\tfor x,tree in enumerate(line):\n",
    "\t\t\tif x == 0 or x == len(line) - 1:\n",
    "\t\t\t\trow.append(0)\n",
    "\t\t\telse:\n",
    "\t\t\t\trow.append(scenic_score(trees, x, y, len(line), len(trees)))\n",
    "\t\tscore_matrix.append(row[:])\n",
    "\treturn score_matrix\n",
    "\n",
    "check_score(example_trees)"
   ]
  },
  {
   "cell_type": "code",
   "execution_count": 97,
   "metadata": {},
   "outputs": [
    {
     "name": "stdout",
     "output_type": "stream",
     "text": [
      "8\n",
      "671160\n"
     ]
    }
   ],
   "source": [
    "def solve_part2(trees):\n",
    "\tscores = check_score(trees)\n",
    "\tmaximum = 0\n",
    "\tfor line in scores:\n",
    "\t\tm = max(line)\n",
    "\t\tif m > maximum:\n",
    "\t\t\tmaximum = m\n",
    "\treturn maximum\n",
    "\n",
    "print(solve_part2(example_trees))\n",
    "print(solve_part2(trees))"
   ]
  }
 ],
 "metadata": {
  "kernelspec": {
   "display_name": "Python 3.7.5 64-bit",
   "language": "python",
   "name": "python3"
  },
  "language_info": {
   "codemirror_mode": {
    "name": "ipython",
    "version": 3
   },
   "file_extension": ".py",
   "mimetype": "text/x-python",
   "name": "python",
   "nbconvert_exporter": "python",
   "pygments_lexer": "ipython3",
   "version": "3.7.5"
  },
  "orig_nbformat": 4,
  "vscode": {
   "interpreter": {
    "hash": "31f2aee4e71d21fbe5cf8b01ff0e069b9275f58929596ceb00d14d90e3e16cd6"
   }
  }
 },
 "nbformat": 4,
 "nbformat_minor": 2
}
