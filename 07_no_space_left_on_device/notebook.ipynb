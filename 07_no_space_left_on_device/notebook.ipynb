{
 "cells": [
  {
   "cell_type": "code",
   "execution_count": 111,
   "metadata": {},
   "outputs": [],
   "source": [
    "def read_file(file_name):\n",
    "\twith open(file_name, \"r\") as f:\n",
    "\t\tdata = f.read().splitlines()\n",
    "\treturn data"
   ]
  },
  {
   "cell_type": "code",
   "execution_count": 112,
   "metadata": {},
   "outputs": [],
   "source": [
    "EXAMPLE_FILE = \"example\"\n",
    "INPUT_FILE = \"input\""
   ]
  },
  {
   "cell_type": "code",
   "execution_count": 113,
   "metadata": {},
   "outputs": [],
   "source": [
    "class Tree:\n",
    "\tdef __init__(self, name, parent=None):\n",
    "\t\tself.name = name\n",
    "\t\tself.parent = parent\n",
    "\t\tself.directories = {} \n",
    "\t\tself.files = []\n",
    "\t\tself.size = 0\n",
    "\n",
    "\tdef add_file(self, name, size):\n",
    "\t\tself.files.append((name, size))\n",
    "\n",
    "\tdef add_dir(self, name):\n",
    "\t\tif name not in self.directories:\n",
    "\t\t\tself.directories[name] = Tree(name, self)\n",
    "\t\treturn self.directories[name]\n",
    "\n",
    "\tdef get_parent(self):\n",
    "\t\treturn self.parent\n",
    "\n",
    "\tdef get_size(self):\n",
    "\t\tif self.size != 0:\n",
    "\t\t\treturn self.size \n",
    "\t\tfor _,s in self.files:\n",
    "\t\t\tself.size += s \n",
    "\t\tfor directory in self.directories.values():\n",
    "\t\t\tself.size += directory.get_size()\n",
    "\t\treturn self.size\n",
    "\n",
    "\tdef get_dir_sizes(self):\n",
    "\t\tsizes = [self.get_size()]\n",
    "\t\tfor directory in self.directories.values():\n",
    "\t\t\tsizes.extend(directory.get_dir_sizes())\n",
    "\t\treturn sizes\n"
   ]
  },
  {
   "cell_type": "code",
   "execution_count": 114,
   "metadata": {},
   "outputs": [
    {
     "data": {
      "text/plain": [
       "[48381165, 94853, 584, 24933642]"
      ]
     },
     "execution_count": 114,
     "metadata": {},
     "output_type": "execute_result"
    }
   ],
   "source": [
    "def prepare_data(file_name):\n",
    "\tfile_tree = None\n",
    "\tcurrent_tree = None\n",
    "\tdata = read_file(file_name)\n",
    "\tfor line in data:\n",
    "\t\tline = line.split(' ')\n",
    "\n",
    "\t\tif line[0] == '$':\n",
    "\t\t\tif line[1] == 'cd':\n",
    "\t\t\t\tif line[2] == '..':\n",
    "\t\t\t\t\tcurrent_tree = current_tree.get_parent()\n",
    "\t\t\t\telse:\n",
    "\t\t\t\t\tif file_tree == None:\n",
    "\t\t\t\t\t\tfile_tree = Tree(line[2])\n",
    "\t\t\t\t\t\tcurrent_tree = file_tree\n",
    "\t\t\t\t\telse:\n",
    "\t\t\t\t\t\tcurrent_tree = current_tree.add_dir(line[2])\n",
    "\t\t\t# elif line[1] = 'ls':\n",
    "\t\telse:\n",
    "\t\t\tif line[0] == 'dir':\n",
    "\t\t\t\tcurrent_tree.add_dir(line[1])\n",
    "\t\t\telse:\n",
    "\t\t\t\tcurrent_tree.add_file(line[1], int(line[0]))\n",
    "\treturn file_tree\n",
    "\n",
    "tree = prepare_data(EXAMPLE_FILE)\n",
    "# tree.get_size()\n",
    "tree.get_dir_sizes()"
   ]
  },
  {
   "cell_type": "code",
   "execution_count": 115,
   "metadata": {},
   "outputs": [
    {
     "name": "stdout",
     "output_type": "stream",
     "text": [
      "## Part 1 ##\n",
      "95437\n",
      "1325919\n"
     ]
    }
   ],
   "source": [
    "def solve_part1(file_name):\n",
    "\tresult = 0\n",
    "\ttree = prepare_data(file_name)\n",
    "\tdir_sizes = tree.get_dir_sizes()\n",
    "\tfor size in dir_sizes:\n",
    "\t\tif size <= 100000:\n",
    "\t\t\tresult += size\n",
    "\treturn result\n",
    "\n",
    "print(\"## Part 1 ##\")\n",
    "print(solve_part1(EXAMPLE_FILE))\n",
    "print(solve_part1(INPUT_FILE))"
   ]
  },
  {
   "cell_type": "code",
   "execution_count": 116,
   "metadata": {},
   "outputs": [
    {
     "name": "stdout",
     "output_type": "stream",
     "text": [
      "## Part 2 ##\n",
      "24933642\n",
      "2050735\n"
     ]
    }
   ],
   "source": [
    "def solve_part2(file_name):\n",
    "\ttree = prepare_data(file_name)\n",
    "\tfree_space = 70000000 - tree.get_size()\n",
    "\tneeded_space = 30000000 - free_space\n",
    "\tdir_sizes = tree.get_dir_sizes()\n",
    "\tcandidates = []\n",
    "\tfor size in dir_sizes:\n",
    "\t\tif size >= needed_space:\n",
    "\t\t\tcandidates.append(size)\n",
    "\treturn min(candidates)\n",
    "\n",
    "print(\"## Part 2 ##\")\n",
    "print(solve_part2(EXAMPLE_FILE))\n",
    "print(solve_part2(INPUT_FILE))"
   ]
  }
 ],
 "metadata": {
  "kernelspec": {
   "display_name": "Python 3.7.5 64-bit",
   "language": "python",
   "name": "python3"
  },
  "language_info": {
   "codemirror_mode": {
    "name": "ipython",
    "version": 3
   },
   "file_extension": ".py",
   "mimetype": "text/x-python",
   "name": "python",
   "nbconvert_exporter": "python",
   "pygments_lexer": "ipython3",
   "version": "3.7.5"
  },
  "orig_nbformat": 4,
  "vscode": {
   "interpreter": {
    "hash": "31f2aee4e71d21fbe5cf8b01ff0e069b9275f58929596ceb00d14d90e3e16cd6"
   }
  }
 },
 "nbformat": 4,
 "nbformat_minor": 2
}
