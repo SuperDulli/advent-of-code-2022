{
 "cells": [
  {
   "cell_type": "code",
   "execution_count": 1,
   "metadata": {},
   "outputs": [],
   "source": [
    "def read_file(file_name):\n",
    "\twith open(file_name, \"r\") as f:\n",
    "\t\tdata = f.read().splitlines()\n",
    "\treturn data"
   ]
  },
  {
   "cell_type": "code",
   "execution_count": 2,
   "metadata": {},
   "outputs": [],
   "source": [
    "EXAMPLE_FILE = \"example\"\n",
    "INPUT_FILE = \"input\""
   ]
  },
  {
   "cell_type": "code",
   "execution_count": 3,
   "metadata": {},
   "outputs": [],
   "source": [
    "exmaple_ranges = read_file(EXAMPLE_FILE)\n",
    "ranges = read_file(INPUT_FILE)"
   ]
  },
  {
   "cell_type": "code",
   "execution_count": 4,
   "metadata": {},
   "outputs": [
    {
     "data": {
      "text/plain": [
       "{2, 3, 4}"
      ]
     },
     "execution_count": 4,
     "metadata": {},
     "output_type": "execute_result"
    }
   ],
   "source": [
    "def range_to_set(section):\n",
    "\tstart, end = section.split('-')\n",
    "\tstart = int(start)\n",
    "\tend = int(end) + 1\n",
    "\treturn set(range(start, end))\n",
    "\n",
    "range_to_set(\"2-4\")"
   ]
  },
  {
   "cell_type": "code",
   "execution_count": 5,
   "metadata": {},
   "outputs": [],
   "source": [
    "def get_ranges(range_pair):\n",
    "\tleft, right = range_pair.split(',')\n",
    "\tleft = range_to_set(left)\n",
    "\tright = range_to_set(right)\n",
    "\treturn (left, right)"
   ]
  },
  {
   "cell_type": "code",
   "execution_count": 6,
   "metadata": {},
   "outputs": [],
   "source": [
    "def is_fully_contained(left, right):\n",
    "\treturn left.issubset(right) or right.issubset(left)"
   ]
  },
  {
   "cell_type": "code",
   "execution_count": 9,
   "metadata": {},
   "outputs": [],
   "source": [
    "def count_positves(sequence, test):\n",
    "\tcount = 0\n",
    "\tfor item in sequence:\n",
    "\t\tif test(*get_ranges(item)):\n",
    "\t\t\tcount += 1\n",
    "\treturn count"
   ]
  },
  {
   "cell_type": "code",
   "execution_count": 10,
   "metadata": {},
   "outputs": [
    {
     "name": "stdout",
     "output_type": "stream",
     "text": [
      "2\n",
      "534\n"
     ]
    }
   ],
   "source": [
    "def solve_part1(ranges):\n",
    "\treturn count_positves(ranges, is_fully_contained)\n",
    "\n",
    "print(solve_part1(exmaple_ranges))\n",
    "print(solve_part1(ranges))"
   ]
  },
  {
   "cell_type": "code",
   "execution_count": 11,
   "metadata": {},
   "outputs": [],
   "source": [
    "def is_overlapping(left, right):\n",
    "\treturn not left.isdisjoint(right)"
   ]
  },
  {
   "cell_type": "code",
   "execution_count": 13,
   "metadata": {},
   "outputs": [
    {
     "name": "stdout",
     "output_type": "stream",
     "text": [
      "4\n",
      "841\n"
     ]
    }
   ],
   "source": [
    "def solve_part2(ranges):\n",
    "\treturn count_positves(ranges, is_overlapping)\n",
    "\n",
    "print(solve_part2(exmaple_ranges))\n",
    "print(solve_part2(ranges))"
   ]
  }
 ],
 "metadata": {
  "kernelspec": {
   "display_name": "Python 3.7.5 64-bit",
   "language": "python",
   "name": "python3"
  },
  "language_info": {
   "codemirror_mode": {
    "name": "ipython",
    "version": 3
   },
   "file_extension": ".py",
   "mimetype": "text/x-python",
   "name": "python",
   "nbconvert_exporter": "python",
   "pygments_lexer": "ipython3",
   "version": "3.7.5"
  },
  "orig_nbformat": 4,
  "vscode": {
   "interpreter": {
    "hash": "31f2aee4e71d21fbe5cf8b01ff0e069b9275f58929596ceb00d14d90e3e16cd6"
   }
  }
 },
 "nbformat": 4,
 "nbformat_minor": 2
}
