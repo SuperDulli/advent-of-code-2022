{
 "cells": [
  {
   "cell_type": "code",
   "execution_count": 191,
   "metadata": {},
   "outputs": [],
   "source": [
    "def read_file(file_name):\n",
    "\twith open(file_name, \"r\") as f:\n",
    "\t\tdata = f.read().splitlines()\n",
    "\treturn data"
   ]
  },
  {
   "cell_type": "code",
   "execution_count": 192,
   "metadata": {},
   "outputs": [],
   "source": [
    "EXAMPLE_FILE = \"example\"\n",
    "INPUT_FILE = \"input\""
   ]
  },
  {
   "cell_type": "code",
   "execution_count": 193,
   "metadata": {},
   "outputs": [],
   "source": [
    "numbers = [int(x) for x in read_file(EXAMPLE_FILE)]\n",
    "# numbers = [0, 1, 8, 1]"
   ]
  },
  {
   "cell_type": "code",
   "execution_count": 194,
   "metadata": {},
   "outputs": [
    {
     "data": {
      "text/plain": [
       "2"
      ]
     },
     "execution_count": 194,
     "metadata": {},
     "output_type": "execute_result"
    }
   ],
   "source": [
    "def number_n_after_0(numbers, n):\n",
    "\tindex = numbers.index(0)\n",
    "\treturn numbers[(index + n) % len(numbers)]\n",
    "\n",
    "number_n_after_0([1, 2, -3, 4, 0, 3, -2], 1000)\n",
    "number_n_after_0([1, 2, -3, 4, 0, 3, -2], 2000)\n",
    "number_n_after_0([1, 2, -3, 4, 0, 3, -2], 3000)"
   ]
  },
  {
   "cell_type": "code",
   "execution_count": 195,
   "metadata": {},
   "outputs": [
    {
     "data": {
      "text/plain": [
       "(<__main__.Node at 0x7f66ac046a50>,\n",
       " [<__main__.Node at 0x7f66ac046a50>,\n",
       "  <__main__.Node at 0x7f66ac0c7cd0>,\n",
       "  <__main__.Node at 0x7f66ac119250>,\n",
       "  <__main__.Node at 0x7f66ac119c90>])"
      ]
     },
     "execution_count": 195,
     "metadata": {},
     "output_type": "execute_result"
    }
   ],
   "source": [
    "class Node:\n",
    "\tdef __init__(self, value):\n",
    "\t\tself.value = value\n",
    "\t\tself.prev = None\n",
    "\t\tself.next = None\n",
    "\t\n",
    "\tdef add_next(self, node):\n",
    "\t\tself.next = node\n",
    "\t\tnode.prev = self\n",
    "\n",
    "def list_to_circle(numbers):\n",
    "\tstart = Node(numbers[0])\n",
    "\tnode_list = [start]\n",
    "\tend = start\n",
    "\tfor i, n in enumerate(numbers):\n",
    "\t\tif i == 0:\n",
    "\t\t\tcontinue\n",
    "\t\tnode = Node(n)\n",
    "\t\tnode_list.append(node)\n",
    "\t\tend.add_next(node)\n",
    "\t\tend = node\n",
    "\tend.add_next(start)\n",
    "\treturn start, node_list\n",
    "\n",
    "def circle_to_list(node):\n",
    "\tresult = [node.value]\n",
    "\tstart = node\n",
    "\twhile node.next != start:\n",
    "\t\tresult.append(node.next.value)\n",
    "\t\tnode = node.next\n",
    "\treturn result\n",
    "\n",
    "list_to_circle([1,2,3,4])"
   ]
  },
  {
   "cell_type": "code",
   "execution_count": 196,
   "metadata": {},
   "outputs": [],
   "source": [
    "def move_right(node):\n",
    "\tright = node.next\n",
    "\tleft = node.prev\n",
    "\n",
    "\tnode.prev = right\n",
    "\tright.prev = left\n",
    "\n",
    "\tnode.next = right.next\n",
    "\tright.next.prev = node\n",
    "\n",
    "\tright.next = node\n",
    "\tleft.next = right"
   ]
  },
  {
   "cell_type": "code",
   "execution_count": 197,
   "metadata": {},
   "outputs": [
    {
     "data": {
      "text/plain": [
       "[1, 2, -3, 3, -2, 0, 4]"
      ]
     },
     "execution_count": 197,
     "metadata": {},
     "output_type": "execute_result"
    }
   ],
   "source": [
    "start, nodes = list_to_circle(numbers)\n",
    "# move_right(start)\n",
    "circle_to_list(start)"
   ]
  },
  {
   "cell_type": "code",
   "execution_count": 198,
   "metadata": {},
   "outputs": [
    {
     "data": {
      "text/plain": [
       "3"
      ]
     },
     "execution_count": 198,
     "metadata": {},
     "output_type": "execute_result"
    }
   ],
   "source": [
    "def mix(nodes):\n",
    "\tstart = nodes[0]\n",
    "\tfor node in nodes:\n",
    "\t\tif node.value == 0:\n",
    "\t\t\tcontinue\n",
    "\t\tif node.value > 0:\n",
    "\t\t\tfor _ in range(node.value):\n",
    "\t\t\t\tmove_right(node)\n",
    "\t\telse:\n",
    "\t\t\tfor _ in range(abs(node.value)):\n",
    "\t\t\t\tmove_right(node.prev)\n",
    "\n",
    "mix(nodes)\n",
    "mixed = circle_to_list(start)\n",
    "sum([number_n_after_0(mixed, n) for n in [1000,2000,3000]])"
   ]
  },
  {
   "cell_type": "code",
   "execution_count": 199,
   "metadata": {},
   "outputs": [
    {
     "name": "stdout",
     "output_type": "stream",
     "text": [
      "3\n",
      "2827\n"
     ]
    }
   ],
   "source": [
    "def solve_part1(file_name):\n",
    "\tnumbers = [int(x) for x in read_file(file_name)]\n",
    "\tstart, nodes = list_to_circle(numbers)\n",
    "\tmix(nodes)\n",
    "\tmixed = circle_to_list(start)\n",
    "\treturn sum([number_n_after_0(mixed, n) for n in [1000,2000,3000]])\n",
    "\n",
    "print(solve_part1(EXAMPLE_FILE))\n",
    "print(solve_part1(INPUT_FILE))"
   ]
  }
 ],
 "metadata": {
  "kernelspec": {
   "display_name": "Python 3.7.5 64-bit",
   "language": "python",
   "name": "python3"
  },
  "language_info": {
   "codemirror_mode": {
    "name": "ipython",
    "version": 3
   },
   "file_extension": ".py",
   "mimetype": "text/x-python",
   "name": "python",
   "nbconvert_exporter": "python",
   "pygments_lexer": "ipython3",
   "version": "3.7.5 (default, Dec  9 2021, 17:04:37) \n[GCC 8.4.0]"
  },
  "orig_nbformat": 4,
  "vscode": {
   "interpreter": {
    "hash": "31f2aee4e71d21fbe5cf8b01ff0e069b9275f58929596ceb00d14d90e3e16cd6"
   }
  }
 },
 "nbformat": 4,
 "nbformat_minor": 2
}
