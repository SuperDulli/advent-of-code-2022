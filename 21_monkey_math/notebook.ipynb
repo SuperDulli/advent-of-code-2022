{
 "cells": [
  {
   "cell_type": "code",
   "execution_count": 2,
   "metadata": {},
   "outputs": [],
   "source": [
    "def read_file(file_name):\n",
    "\twith open(file_name, \"r\") as f:\n",
    "\t\tdata = f.read().splitlines()\n",
    "\treturn data"
   ]
  },
  {
   "cell_type": "code",
   "execution_count": 3,
   "metadata": {},
   "outputs": [],
   "source": [
    "EXAMPLE_FILE = \"example\"\n",
    "INPUT_FILE = \"input\""
   ]
  },
  {
   "cell_type": "code",
   "execution_count": 268,
   "metadata": {},
   "outputs": [
    {
     "data": {
      "text/plain": [
       "'+'"
      ]
     },
     "execution_count": 268,
     "metadata": {},
     "output_type": "execute_result"
    }
   ],
   "source": [
    "def prepare_data(file_name):\n",
    "\tmonkeys = {}\n",
    "\tdata = read_file(file_name)\n",
    "\tfor line in data:\n",
    "\t\tline = line.split(':')\n",
    "\t\tmonkeys[line[0]] = line[1].split(' ')[1:]\n",
    "\treturn monkeys\n",
    "\n",
    "monkeys = prepare_data(EXAMPLE_FILE)\n",
    "monkeys[\"root\"][1]"
   ]
  },
  {
   "cell_type": "code",
   "execution_count": 269,
   "metadata": {},
   "outputs": [],
   "source": [
    "def get_monkey_value(monkeys, name):\n",
    "\tif len(monkeys[name]) == 1:\n",
    "\t\treturn int(monkeys[name][0])\n",
    "\tif monkeys[name][1] == '+':\n",
    "\t\treturn get_monkey_value(monkeys, monkeys[name][0]) + get_monkey_value(monkeys, monkeys[name][2])\n",
    "\tif monkeys[name][1] == '-':\n",
    "\t\treturn get_monkey_value(monkeys, monkeys[name][0]) - get_monkey_value(monkeys, monkeys[name][2])\n",
    "\tif monkeys[name][1] == '*':\n",
    "\t\treturn get_monkey_value(monkeys, monkeys[name][0]) * get_monkey_value(monkeys, monkeys[name][2])\n",
    "\tif monkeys[name][1] == '/':\n",
    "\t\treturn get_monkey_value(monkeys, monkeys[name][0]) / get_monkey_value(monkeys, monkeys[name][2])"
   ]
  },
  {
   "cell_type": "code",
   "execution_count": 270,
   "metadata": {},
   "outputs": [
    {
     "data": {
      "text/plain": [
       "152.0"
      ]
     },
     "execution_count": 270,
     "metadata": {},
     "output_type": "execute_result"
    }
   ],
   "source": [
    "get_monkey_value(prepare_data(EXAMPLE_FILE), \"root\")"
   ]
  },
  {
   "cell_type": "code",
   "execution_count": 271,
   "metadata": {},
   "outputs": [
    {
     "data": {
      "text/plain": [
       "152479825094094.0"
      ]
     },
     "execution_count": 271,
     "metadata": {},
     "output_type": "execute_result"
    }
   ],
   "source": [
    "get_monkey_value(prepare_data(INPUT_FILE), \"root\")"
   ]
  },
  {
   "attachments": {},
   "cell_type": "markdown",
   "metadata": {},
   "source": [
    "## Solving the example equation by hand\n",
    "\n",
    "root = pppw == sjmn\n",
    "cczh / lfqf == drzm * dbpl\n",
    "(sllz + lgvd) / 4 == (hmdt - zczc) * 5\n",
    "(4 + (ljgn * ptdq)) / 4 == (32 - 2) * 5\n",
    "(4 + (2 * (humn - dvpt))) / 4 == 150\n",
    "(4 + (2 * (humn - 3))) / 4 == 150\n",
    "(4 + 2*humn - 6) / 4 == 150\n",
    "1 + 1/2*humn - 6/4 == 150\n",
    "1/2*humn == 150 - 1 + 6/4\n",
    "humn == 2 * (149 + 6/4)"
   ]
  },
  {
   "cell_type": "code",
   "execution_count": 4,
   "metadata": {},
   "outputs": [
    {
     "data": {
      "text/plain": [
       "[301]"
      ]
     },
     "execution_count": 4,
     "metadata": {},
     "output_type": "execute_result"
    }
   ],
   "source": [
    "from sympy import symbols, Eq, solve, sympify\n",
    "\n",
    "humn = symbols('humn')\n",
    "expr = (4 + 2*humn - 6) / 4 - 150\n",
    "\n",
    "solve(expr)"
   ]
  },
  {
   "cell_type": "code",
   "execution_count": 5,
   "metadata": {},
   "outputs": [],
   "source": [
    "def get_monkeys(file_name):\n",
    "\tmonkeys = {}\n",
    "\tlhs, rhs = None, None\n",
    "\tfor line in read_file(file_name):\n",
    "\t\tline = line.split(': ')\n",
    "\t\tif line[0] == 'root':\n",
    "\t\t\tlhs, rhs = line[1].split(' + ')\n",
    "\t\t\tcontinue\n",
    "\t\tif line[0] == 'humn':\n",
    "\t\t\tmonkeys[line[0]] = None\n",
    "\t\t\tcontinue\n",
    "\t\tmonkeys[line[0]] = sympify(line[1])\n",
    "\treturn monkeys, sympify(lhs), sympify(rhs)\n",
    "\n",
    "monkeys, lhs, rhs = get_monkeys(EXAMPLE_FILE)"
   ]
  },
  {
   "cell_type": "code",
   "execution_count": 274,
   "metadata": {},
   "outputs": [
    {
     "data": {
      "text/plain": [
       "[301]"
      ]
     },
     "execution_count": 274,
     "metadata": {},
     "output_type": "execute_result"
    }
   ],
   "source": [
    "for name in monkeys.keys():\n",
    "\tglobals()[name] = symbols(name)\n",
    "\n",
    "expr = Eq((4 + (2 * (humn - 3))) / 4, 150)\n",
    "solve(expr)"
   ]
  },
  {
   "cell_type": "code",
   "execution_count": 275,
   "metadata": {},
   "outputs": [
    {
     "name": "stdout",
     "output_type": "stream",
     "text": [
      "pppw\n",
      "cczh/lfqf\n",
      "-dvpt/2 + humn/2 + 1\n",
      "humn/2 - 1/2\n",
      "sjmn\n",
      "dbpl*drzm\n",
      "150\n"
     ]
    },
    {
     "data": {
      "text/plain": [
       "[301]"
      ]
     },
     "execution_count": 275,
     "metadata": {},
     "output_type": "execute_result"
    }
   ],
   "source": [
    "print(lhs)\n",
    "# rhs = sympify(monkeys['root'][2])\n",
    "# sympify(monkeys['root'])\n",
    "lhs = lhs.subs(monkeys)\n",
    "print(lhs)\n",
    "lhs = lhs.subs(monkeys)\n",
    "print(lhs)\n",
    "lhs = lhs.subs(monkeys)\n",
    "print(lhs)\n",
    "lhs = lhs.subs(monkeys)\n",
    "lhs\n",
    "print(rhs)\n",
    "rhs = rhs.subs(monkeys)\n",
    "print(rhs)\n",
    "rhs = rhs.subs(monkeys)\n",
    "print(rhs)\n",
    "equality = Eq(lhs, rhs)\n",
    "solve(equality)"
   ]
  },
  {
   "cell_type": "code",
   "execution_count": 7,
   "metadata": {},
   "outputs": [
    {
     "name": "stdout",
     "output_type": "stream",
     "text": [
      "0\n",
      "humn/2 - 1/2 == 150\n",
      "0\n",
      "10\n",
      "20\n",
      "30\n",
      "40\n",
      "50\n",
      "60\n",
      "70\n",
      "80\n",
      "90\n",
      "100\n",
      "110\n",
      "120\n",
      "130\n",
      "140\n",
      "150\n",
      "160\n",
      "170\n",
      "180\n",
      "190\n",
      "200\n",
      "210\n",
      "220\n",
      "230\n",
      "240\n",
      "250\n",
      "260\n",
      "270\n",
      "280\n",
      "290\n",
      "300\n",
      "310\n",
      "320\n",
      "330\n",
      "340\n",
      "350\n",
      "360\n",
      "370\n",
      "380\n",
      "390\n",
      "400\n",
      "410\n",
      "420\n",
      "430\n",
      "440\n",
      "450\n",
      "460\n",
      "470\n",
      "480\n",
      "490\n",
      "500\n",
      "510\n",
      "520\n",
      "530\n",
      "540\n",
      "550\n",
      "560\n",
      "570\n",
      "580\n",
      "590\n",
      "600\n",
      "610\n",
      "620\n",
      "630\n",
      "640\n",
      "650\n",
      "660\n",
      "670\n",
      "680\n",
      "690\n",
      "700\n",
      "710\n",
      "720\n",
      "730\n",
      "740\n",
      "750\n",
      "760\n",
      "770\n",
      "780\n",
      "790\n",
      "800\n",
      "810\n",
      "820\n",
      "830\n",
      "840\n",
      "850\n",
      "860\n",
      "870\n",
      "880\n",
      "890\n",
      "900\n",
      "910\n",
      "920\n",
      "930\n",
      "940\n",
      "950\n",
      "960\n",
      "970\n",
      "980\n",
      "990\n",
      "1000\n",
      "1010\n",
      "1020\n",
      "1030\n",
      "1040\n",
      "1050\n",
      "1060\n",
      "1070\n",
      "1080\n",
      "1090\n",
      "2571388948322787/25 - 396*humn/25 == 49624267175787\n"
     ]
    },
    {
     "data": {
      "text/plain": [
       "[3360561285172]"
      ]
     },
     "execution_count": 7,
     "metadata": {},
     "output_type": "execute_result"
    }
   ],
   "source": [
    "def solve_part2(file_name):\n",
    "\tmonkeys, lhs, rhs = get_monkeys(file_name)\n",
    "\tfor i in range(len(monkeys.keys()) // 2):\n",
    "\t\tlhs = lhs.subs(monkeys)\n",
    "\t\trhs = rhs.subs(monkeys)\n",
    "\t\tif i % 10 == 0:\n",
    "\t\t\tprint(i)\n",
    "\tprint(f\"{lhs} == {rhs}\")\n",
    "\treturn solve(Eq(lhs, rhs))\n",
    "\n",
    "solve_part2(EXAMPLE_FILE)\n",
    "solve_part2(INPUT_FILE)"
   ]
  }
 ],
 "metadata": {
  "kernelspec": {
   "display_name": "Python 3.7.5 64-bit",
   "language": "python",
   "name": "python3"
  },
  "language_info": {
   "codemirror_mode": {
    "name": "ipython",
    "version": 3
   },
   "file_extension": ".py",
   "mimetype": "text/x-python",
   "name": "python",
   "nbconvert_exporter": "python",
   "pygments_lexer": "ipython3",
   "version": "3.7.5"
  },
  "orig_nbformat": 4,
  "vscode": {
   "interpreter": {
    "hash": "31f2aee4e71d21fbe5cf8b01ff0e069b9275f58929596ceb00d14d90e3e16cd6"
   }
  }
 },
 "nbformat": 4,
 "nbformat_minor": 2
}
